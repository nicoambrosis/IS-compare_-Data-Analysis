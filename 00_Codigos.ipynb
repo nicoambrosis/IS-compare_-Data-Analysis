{
 "cells": [
  {
   "cell_type": "markdown",
   "metadata": {},
   "source": [
    "## Codigos xx cepas.\n",
    "Este programa sirve para generar un archivo .txt que contenga las lineas de codigo que necesito para correr las 170 cepas del paper [Genomic Survey of Bordetella pertussis](https://wwwnc.cdc.gov/eid/article/25/4/18-0812_article) en el programa ISCompare.py"
   ]
  },
  {
   "cell_type": "code",
   "execution_count": null,
   "metadata": {},
   "outputs": [],
   "source": [
    "# en primer lugar necesitamos generar dos tuplas, una que contenga los nombres de las cepas y otras que contenga\n",
    "# los accesion number"
   ]
  },
  {
   "cell_type": "code",
   "execution_count": null,
   "metadata": {},
   "outputs": [],
   "source": [
    "# abrimos el archivo 'Genomic Survey of Bordetella pertussis.xls'\n",
    "import pandas as pd\n",
    "\n",
    "df = pd.read_excel('Genomic_Survey_of_Bordetella_pertussis.xlsx')\n",
    "df"
   ]
  },
  {
   "cell_type": "code",
   "execution_count": null,
   "metadata": {
    "scrolled": false
   },
   "outputs": [],
   "source": [
    "# quiero ordenar la columna por ano de aislamiento\n",
    "\n",
    "df = df.sort_values('Year', ascending=True, ignore_index=True)\n",
    "df"
   ]
  },
  {
   "cell_type": "code",
   "execution_count": null,
   "metadata": {},
   "outputs": [],
   "source": [
    "# reseteo el indice\n",
    "df.reset_index(drop=True, inplace=True)\n",
    "df.head(50)"
   ]
  },
  {
   "cell_type": "code",
   "execution_count": null,
   "metadata": {},
   "outputs": [],
   "source": [
    "# necesito obtener los datos de la columna 'ID' como una lista o una tupla.\n",
    "# Lo mismo con los datos de la columna 'Accession no.'\n",
    "cepas = df['ID'].to_list()\n",
    "acc_no = df['Accession no.'].to_list()\n"
   ]
  },
  {
   "cell_type": "code",
   "execution_count": null,
   "metadata": {},
   "outputs": [],
   "source": [
    "# ademas necestio generar una DF que solo tenga la columna de las 'ID'\n",
    "id_df = df[['ID']]\n",
    "id_df.to_csv('Nombres_Cepas.csv', index=False)"
   ]
  },
  {
   "cell_type": "code",
   "execution_count": null,
   "metadata": {},
   "outputs": [],
   "source": [
    "# con las dos listas que genere antes ahora tengo que crear un diccionario. Para eso uso la funcion zip()\n",
    "# mis_datos = dict(zip(claves, valores))\n",
    "\n",
    "dic = dict(zip(cepas,acc_no))\n",
    "print(dic)\n"
   ]
  },
  {
   "cell_type": "code",
   "execution_count": null,
   "metadata": {},
   "outputs": [],
   "source": [
    "# ahora creo el archivo txt sobre el cual voy a escribir todos los codigos que necesito\n",
    "file = open('codigos_170_cepas.txt', 'w')\n",
    "\n",
    "i=0\n",
    "for cepas, acc_no  in dic.items():\n",
    "    i= i+1\n",
    "    file.write('\\n{} --- {} ---\\n'.format(i, cepas))\n",
    "    file.write('ISCompare.py -i IS481_M28220.1.fasta -Q {} -R BX470248.1 -e nambrosis@hotmail.com -o {} -c\\n'.format(acc_no, cepas))\n",
    "\n",
    "file.close()"
   ]
  },
  {
   "cell_type": "code",
   "execution_count": null,
   "metadata": {},
   "outputs": [],
   "source": []
  }
 ],
 "metadata": {
  "kernelspec": {
   "display_name": "Python 3",
   "language": "python",
   "name": "python3"
  },
  "language_info": {
   "codemirror_mode": {
    "name": "ipython",
    "version": 3
   },
   "file_extension": ".py",
   "mimetype": "text/x-python",
   "name": "python",
   "nbconvert_exporter": "python",
   "pygments_lexer": "ipython3",
   "version": "3.8.6"
  }
 },
 "nbformat": 4,
 "nbformat_minor": 4
}
