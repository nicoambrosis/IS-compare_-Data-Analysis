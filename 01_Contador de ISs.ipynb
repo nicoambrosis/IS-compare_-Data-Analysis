{
 "cells": [
  {
   "cell_type": "markdown",
   "metadata": {},
   "source": [
    "### Objetivo\n",
    "Uno de los resultados que arroja el programa ISCompare es el numero de ISs encontradas en la cepa de Referencia y en las cepas analizada.\n",
    "\n",
    "El objetivo de este bloque de codigo es extraer esa informacion del archivo 'stats.txt' y generar una DataFrame y un archivo .csv que condense esta informacion."
   ]
  },
  {
   "cell_type": "code",
   "execution_count": null,
   "metadata": {},
   "outputs": [],
   "source": [
    "'''\n",
    "nota II: cuidado que en en los alrchivos stats.txt siempre hay 2 lineas que tienen info sobre el numero de ISs que \n",
    "se encontraron en la cepa query. Habria que analizar con mauri cual es la que hay que usar. Yo creo que es la linea 0 y\n",
    "es la que use para este programa\n",
    "'''"
   ]
  },
  {
   "cell_type": "code",
   "execution_count": null,
   "metadata": {},
   "outputs": [],
   "source": [
    "import pandas as pd\n",
    "pd.set_option('display.max_rows', 175)\n",
    "import re"
   ]
  },
  {
   "cell_type": "code",
   "execution_count": null,
   "metadata": {},
   "outputs": [],
   "source": [
    "\n",
    "\n",
    "strains_list = [] \n",
    "print(f'\\nCEPAS >>> {strains_list}')\n",
    "print(f'\\nNumero de cepas: {len(strains_list)}')\n",
    "\n",
    "\n"
   ]
  },
  {
   "cell_type": "code",
   "execution_count": null,
   "metadata": {},
   "outputs": [],
   "source": [
    "ISs_num = {}\n",
    "\n",
    "############################################################################################################\n",
    "def get_ISs_from_ref(strains_list): \n",
    "    \n",
    "    try: #con este try el programa no sea cae si no encuentra la carpeta que busca. Al final avisa que carpeta no encontro.\n",
    "            with open(f'./{strains_list[0]}/' + 'stats.txt', 'r+') as f:\n",
    "                file = f.readlines()\n",
    "                f.close()\n",
    "                lines_list = []\n",
    "                \n",
    "                for line in file:                    \n",
    "                    nombre = line.replace(\"\\n\", \"\")\n",
    "                    lines_list.append(nombre)\n",
    "        \n",
    "                number = r\"\\d{1,3}\"\n",
    "                ref_num =int(re.search(number, lines_list[11]).group())\n",
    "                strain = 'Tohama'\n",
    "                ISs_num[strain] = ref_num\n",
    "    except Exception:            \n",
    "            print(f'The folder ::{strain}:: was not found.')\n",
    "                \n",
    "    return ISs_num\n",
    "\n",
    "############################################################################################################\n",
    "\n",
    "def get_IS(lines_list):\n",
    "    for line in lines_list:\n",
    "        number = r\"\\d{1,3}\"\n",
    "        querry_num =int(re.search(number, lines_list[0]).group()) \n",
    "        return querry_num\n",
    "############################################################################################################\n",
    "\n",
    "def get_ISs_from_querys(strains_list):\n",
    "    \n",
    "    for strain in strains_list:\n",
    "        \n",
    "        try:\n",
    "            \n",
    "            with open(f'./{strain}/' + 'stats.txt', 'r+') as f:\n",
    "                \n",
    "                file = f.readlines()\n",
    "                f.close()\n",
    "\n",
    "                lines_list = []\n",
    "                for line in file:\n",
    "                    \n",
    "                    nombre = line.replace(\"\\n\", \"\")\n",
    "                    lines_list.append(nombre)\n",
    "\n",
    "                ISs_num[strain] = get_IS(file) \n",
    "\n",
    "        except Exception:\n",
    "            \n",
    "            print(f'The folder ::{strain}:: was not found.')\n",
    "\n",
    "    return ISs_num\n",
    "############################################################################################################\n",
    "get_ISs_from_ref(strains_list)\n",
    "get_ISs_from_querys(strains_list)\n",
    "print(ISs_num)"
   ]
  },
  {
   "cell_type": "code",
   "execution_count": null,
   "metadata": {},
   "outputs": [],
   "source": [
    "df = pd.DataFrame.from_dict(ISs_num,orient='index', columns=[\"ISs number\"])\n",
    "display(df.sort_values(by=[\"ISs number\"]))\n",
    "\n",
    "# notar que Tohama es siempre la cepa que menos ISs tiene\n"
   ]
  },
  {
   "cell_type": "code",
   "execution_count": null,
   "metadata": {},
   "outputs": [],
   "source": [
    "df.to_csv('ISs_number.csv')\n",
    "print('File has been saved! ')"
   ]
  },
  {
   "cell_type": "code",
   "execution_count": null,
   "metadata": {},
   "outputs": [],
   "source": [
    "# un paso interesante seria graficar en forma automatica el nombre el numero de ISs"
   ]
  },
  {
   "cell_type": "markdown",
   "metadata": {},
   "source": [
    "---\n",
    "# Data Visualization\n",
    "---"
   ]
  },
  {
   "cell_type": "code",
   "execution_count": null,
   "metadata": {},
   "outputs": [],
   "source": [
    "strains = []\n",
    "ISs = []\n",
    "for key, value in ISs_num.items():\n",
    "    strains.append(key)\n",
    "    ISs.append(value)\n",
    "\n",
    "\n",
    "print(f'Strains >>> {strains}')\n",
    "print(f'ISs >>> {ISs}')\n"
   ]
  },
  {
   "cell_type": "code",
   "execution_count": null,
   "metadata": {},
   "outputs": [],
   "source": [
    "# libraries\n",
    "import numpy as np\n",
    "import matplotlib.pyplot as plt"
   ]
  },
  {
   "cell_type": "code",
   "execution_count": null,
   "metadata": {},
   "outputs": [],
   "source": [
    "# Make dataset\n",
    "height = ISs \n",
    "bars = strains \n",
    "y_pos = np.arange(len(bars))\n",
    " \n",
    "# Define a specific color for Tohama bar\n",
    "colors = ['#ff9696' if i == 'Tohama' else '#73c3ff' for i in bars]\n",
    "    \n",
    "# Create horizontal bars\n",
    "plt.figure(figsize=(9, 7))\n",
    "\n",
    "plt.barh(y_pos, height, color=colors)\n",
    " \n",
    "# Create names on the y-axis\n",
    "plt.yticks(y_pos, bars)\n",
    "plt.xlabel(\"Number of IS's\", fontsize=12)\n",
    "plt.ylabel('Strains', fontsize=12)\n",
    "\n",
    "\n",
    "# Add a line indicating Tohama ISs number\n",
    "plt.axvline(x=234, color='Black', linestyle='dashed')\n",
    " \n",
    "# Show graphic\n",
    "plt.show()"
   ]
  },
  {
   "cell_type": "code",
   "execution_count": null,
   "metadata": {},
   "outputs": [],
   "source": []
  }
 ],
 "metadata": {
  "kernelspec": {
   "display_name": "Python 3",
   "language": "python",
   "name": "python3"
  },
  "language_info": {
   "codemirror_mode": {
    "name": "ipython",
    "version": 3
   },
   "file_extension": ".py",
   "mimetype": "text/x-python",
   "name": "python",
   "nbconvert_exporter": "python",
   "pygments_lexer": "ipython3",
   "version": "3.8.6"
  }
 },
 "nbformat": 4,
 "nbformat_minor": 4
}
