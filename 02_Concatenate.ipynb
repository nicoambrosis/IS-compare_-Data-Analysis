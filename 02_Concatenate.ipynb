{
 "cells": [
  {
   "cell_type": "markdown",
   "metadata": {},
   "source": [
    "---\n",
    "### Analisis de Secuencias de Insercion IS 481 en aislamientos clinicos de B. pertussis Vs Tohama\n",
    "---"
   ]
  },
  {
   "cell_type": "markdown",
   "metadata": {},
   "source": [
    "### Bibliotecas"
   ]
  },
  {
   "cell_type": "code",
   "execution_count": null,
   "metadata": {},
   "outputs": [],
   "source": [
    "import pandas as pd\n",
    "pd.set_option('display.max_columns', 85)\n",
    "pd.set_option('display.max_rows', 100)"
   ]
  },
  {
   "cell_type": "markdown",
   "metadata": {},
   "source": [
    "### Concatenacion de resultados"
   ]
  },
  {
   "cell_type": "code",
   "execution_count": null,
   "metadata": {
    "scrolled": false
   },
   "outputs": [],
   "source": [
    "# Este bloque de codigo permite obtener una lista con los nombres de las 170 cepas \n",
    "# del paper \"Genomic Survey of Bordetella pertussis\"\n",
    "\n",
    "\n",
    "\n",
    "df = pd.read_csv('Nombres_Cepas.csv')\n",
    "\n",
    "strains_list = df['ID'].tolist()\n",
    "\n",
    "print(strains_list)\n"
   ]
  },
  {
   "cell_type": "code",
   "execution_count": null,
   "metadata": {
    "scrolled": false
   },
   "outputs": [],
   "source": [
    "# Este bloque de codigo me sirve para concatenar los archivos 'FinalResults.csv' que salen de correr el \n",
    "# ISCompare con las cepas\n",
    "# el programa tiene que ser ejecutado en la misma carpeta en donde se encuentran las carpetas con los nombres de las cepas.\n",
    "\n",
    "\n",
    "\n",
    "\n",
    "final = pd.DataFrame()\n",
    "for strain in strains_list:\n",
    "    try: #con este try el programa no sea cae si no encuentra la carpeta que busca. Al final avisa que carpeta no encontro.\n",
    "        df = pd.read_csv(f'./{strain}/' + 'FinalResults.csv') \n",
    "        final = pd.concat([final,df], ignore_index=True) \n",
    "\n",
    "    except Exception:\n",
    "        print(f'The folder ::{strain}:: was not found.')\n",
    "   \n",
    "\n",
    "\n",
    "\n",
    "    "
   ]
  },
  {
   "cell_type": "markdown",
   "metadata": {},
   "source": [
    "### Contador de cepas"
   ]
  },
  {
   "cell_type": "code",
   "execution_count": null,
   "metadata": {},
   "outputs": [],
   "source": [
    "numero_cepas = final['Query.ID1'].nunique() #recordar que la funcion .nunique() no cuenta los NaN\n",
    "print(f'Se ha concatenado los resultados de >>> {numero_cepas} <<< cepas')"
   ]
  },
  {
   "cell_type": "code",
   "execution_count": null,
   "metadata": {
    "scrolled": true
   },
   "outputs": [],
   "source": [
    "print(final.shape)\n",
    "final\n",
    "# estaria bueno eliminar la columna que se llama 'Unnamed: 0'"
   ]
  },
  {
   "cell_type": "code",
   "execution_count": null,
   "metadata": {},
   "outputs": [],
   "source": [
    "final.drop(columns='Unnamed: 0', inplace=True) #esta columna se debe generar como parte del proceso de concatenar"
   ]
  },
  {
   "cell_type": "code",
   "execution_count": null,
   "metadata": {},
   "outputs": [],
   "source": [
    "print(final.shape)\n",
    "final"
   ]
  },
  {
   "cell_type": "code",
   "execution_count": null,
   "metadata": {
    "scrolled": true
   },
   "outputs": [],
   "source": [
    "final.to_csv('Final_Results_concat.csv', index=False)\n",
    "\n",
    "# NOTA: recordar que el archivo Final_Results_concat.csv contiene los dos tipos de DLIS\n",
    "#                     > is only present in Ref\n",
    "#                     > is only present in Query\n"
   ]
  },
  {
   "cell_type": "markdown",
   "metadata": {},
   "source": [
    "## Siguiente... \n",
    "El siguiente paso es utilzar el programa Merge para agragar la informacion de cada cepa que obtuvimos del paper Genomic Survey..."
   ]
  },
  {
   "cell_type": "code",
   "execution_count": null,
   "metadata": {},
   "outputs": [],
   "source": []
  }
 ],
 "metadata": {
  "kernelspec": {
   "display_name": "Python 3",
   "language": "python",
   "name": "python3"
  },
  "language_info": {
   "codemirror_mode": {
    "name": "ipython",
    "version": 3
   },
   "file_extension": ".py",
   "mimetype": "text/x-python",
   "name": "python",
   "nbconvert_exporter": "python",
   "pygments_lexer": "ipython3",
   "version": "3.8.6"
  }
 },
 "nbformat": 4,
 "nbformat_minor": 4
}
