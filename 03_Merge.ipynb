{
 "cells": [
  {
   "cell_type": "markdown",
   "metadata": {},
   "source": [
    "# Programa Merge\n",
    "Este programa permite combinar el archivo el archivo Final_Results_concat.csv de las DLIS de todas las cepas con el el archivo Genomic_Survey_of_Bordetella_pertussis.xlsx en donde estan las caracteristicas de las cepas. De esta manera obtenemos un .csv que combina las posiciones de las ISs con las caracteristicas de las cepas (ej: año de aislamiento, genotipo, etc.)"
   ]
  },
  {
   "cell_type": "markdown",
   "metadata": {},
   "source": [
    "## Import"
   ]
  },
  {
   "cell_type": "code",
   "execution_count": null,
   "metadata": {},
   "outputs": [],
   "source": [
    "import pandas as pd\n",
    "pd.set_option('display.max_columns', 45)"
   ]
  },
  {
   "cell_type": "markdown",
   "metadata": {},
   "source": [
    "---"
   ]
  },
  {
   "cell_type": "code",
   "execution_count": null,
   "metadata": {},
   "outputs": [],
   "source": [
    "strains_df = pd.read_excel('Genomic_Survey_of_Bordetella_pertussis.xlsx')"
   ]
  },
  {
   "cell_type": "code",
   "execution_count": null,
   "metadata": {},
   "outputs": [],
   "source": [
    "strains_df"
   ]
  },
  {
   "cell_type": "code",
   "execution_count": null,
   "metadata": {},
   "outputs": [],
   "source": [
    "strains_df.head(3) # hay algunas columnas que no tiene sentido que la arrastremos para el analisis\n",
    "#                   asi que las voy a eliminar"
   ]
  },
  {
   "cell_type": "code",
   "execution_count": null,
   "metadata": {},
   "outputs": [],
   "source": [
    "strains_df.drop(columns=['State','EPS', 'MLVA', 'wgsMLVA', 'PFGE', 'Depth', 'Reference'], inplace=True)\n",
    "# Eliminamos todas esas columnas"
   ]
  },
  {
   "cell_type": "code",
   "execution_count": null,
   "metadata": {},
   "outputs": [],
   "source": [
    "print(strains_df.shape)\n",
    "strains_df"
   ]
  },
  {
   "cell_type": "code",
   "execution_count": null,
   "metadata": {},
   "outputs": [],
   "source": [
    "# Le voy a cambiar el nombre a la columna 'Accession no.' para que luego conicida con el nombre de la columna de la otra df\n",
    "# y podemas hacer el merge\n",
    "\n",
    "strains_df.rename(inplace=True, columns={'Accession no.':'Query_ID'})"
   ]
  },
  {
   "cell_type": "code",
   "execution_count": null,
   "metadata": {},
   "outputs": [],
   "source": [
    "strains_df.head(0) #confirmamos que modificamos el nombre de la columna"
   ]
  },
  {
   "cell_type": "code",
   "execution_count": null,
   "metadata": {},
   "outputs": [],
   "source": [
    "ISs_df = pd.read_csv('Final_Results_concat.csv') # abrimos el segundo archivo y creamos una nueva df"
   ]
  },
  {
   "cell_type": "code",
   "execution_count": null,
   "metadata": {
    "scrolled": false
   },
   "outputs": [],
   "source": [
    "print(ISs_df.shape)\n",
    "ISs_df"
   ]
  },
  {
   "cell_type": "code",
   "execution_count": null,
   "metadata": {},
   "outputs": [],
   "source": [
    "# le cambiamos el nombre a la columna 'Query.ID1' para que coincida con el nombre de la columna de la otra df\n",
    "ISs_df.rename(inplace=True, columns={'Query.ID1':'Query_ID'})"
   ]
  },
  {
   "cell_type": "code",
   "execution_count": null,
   "metadata": {},
   "outputs": [],
   "source": [
    "ISs_df.head(0)"
   ]
  },
  {
   "cell_type": "code",
   "execution_count": null,
   "metadata": {
    "scrolled": false
   },
   "outputs": [],
   "source": [
    "# En la columna 'Query_ID' hay celdas que estan vacias que me van a molestar para hacer el MERGE en los pasos siguientes.\n",
    "# Las tengo que eliminar\n",
    "\n",
    "ISs_df = ISs_df[ISs_df['Query_ID'].isna() == False] # con esta linea sobreescribimos la DF ISs_df con aquellas filas\n",
    "# que no tienen valores NaN"
   ]
  },
  {
   "cell_type": "code",
   "execution_count": null,
   "metadata": {},
   "outputs": [],
   "source": [
    "print(ISs_df.shape)\n",
    "ISs_df"
   ]
  },
  {
   "cell_type": "code",
   "execution_count": null,
   "metadata": {},
   "outputs": [],
   "source": [
    "# Este bloque sirve para elimir el '.1' de todas las celdas de la columna 'Query_ID'. Este paso es necesario\n",
    "# para poder hacer el merge con la otra DF\n",
    "\n",
    "ISs_df['Query_ID'] = ISs_df['Query_ID'].str.slice(0,-2)\n"
   ]
  },
  {
   "cell_type": "code",
   "execution_count": null,
   "metadata": {},
   "outputs": [],
   "source": [
    "print(ISs_df.shape)\n",
    "ISs_df"
   ]
  },
  {
   "cell_type": "markdown",
   "metadata": {},
   "source": [
    "---\n",
    "## Merge"
   ]
  },
  {
   "cell_type": "code",
   "execution_count": null,
   "metadata": {},
   "outputs": [],
   "source": [
    "print(f'strains_df >>> {strains_df.shape}')\n",
    "print(f'ISs_df >>> {ISs_df.shape}')\n",
    "display(strains_df.head(), ISs_df.head() )"
   ]
  },
  {
   "cell_type": "code",
   "execution_count": null,
   "metadata": {},
   "outputs": [],
   "source": [
    "# con esta linea hacemos el MERGE!\n",
    "merge_df = pd.merge(ISs_df, strains_df, left_on='Query_ID', right_on='Query_ID', how='left')"
   ]
  },
  {
   "cell_type": "code",
   "execution_count": null,
   "metadata": {},
   "outputs": [],
   "source": [
    "print(f'merge_df >>> {merge_df.shape}')\n",
    "merge_df"
   ]
  },
  {
   "cell_type": "code",
   "execution_count": null,
   "metadata": {},
   "outputs": [],
   "source": [
    "# Gurdamos el archivo\n",
    "\n",
    "merge_df.to_csv('ISs_Strains.csv', index=False)\n"
   ]
  },
  {
   "cell_type": "markdown",
   "metadata": {},
   "source": [
    "---"
   ]
  },
  {
   "cell_type": "markdown",
   "metadata": {},
   "source": [
    "## Siguiente...\n",
    "El siguiente paso es analizar los resultados para lo cual se puede pasar al programa DLIS_analysis que tiene escritos codigos para hacer este analisis."
   ]
  },
  {
   "cell_type": "code",
   "execution_count": null,
   "metadata": {},
   "outputs": [],
   "source": []
  }
 ],
 "metadata": {
  "kernelspec": {
   "display_name": "Python 3",
   "language": "python",
   "name": "python3"
  },
  "language_info": {
   "codemirror_mode": {
    "name": "ipython",
    "version": 3
   },
   "file_extension": ".py",
   "mimetype": "text/x-python",
   "name": "python",
   "nbconvert_exporter": "python",
   "pygments_lexer": "ipython3",
   "version": "3.8.6"
  }
 },
 "nbformat": 4,
 "nbformat_minor": 4
}
