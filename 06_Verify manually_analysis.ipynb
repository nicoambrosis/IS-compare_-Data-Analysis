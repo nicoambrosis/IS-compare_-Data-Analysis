{
 "cells": [
  {
   "cell_type": "markdown",
   "metadata": {},
   "source": [
    "# Differentially Located IS's (DLIS)\n",
    "En este programa analizamos las DLIS encontradas utilizando del [IS-Compare](https://github.com/maurijlozano/ISCompare).\n",
    "Cepa de Referencia: Tohama///Cepas Query: las 170 cepas del paper 'Genomic Survey of Bordetellla pertussis'.\n",
    "\n",
    "Este programa se alimenta del archivos 'ISs_Strains_clean.cvs'\n",
    "\n",
    "En este archivo analizamos las DLIS que estan indicadas como \"Verify manually\""
   ]
  },
  {
   "cell_type": "markdown",
   "metadata": {},
   "source": [
    "---\n",
    "## Import"
   ]
  },
  {
   "cell_type": "code",
   "execution_count": null,
   "metadata": {},
   "outputs": [],
   "source": [
    "import pandas as pd\n",
    "pd.set_option('display.max_columns', 45)\n",
    "pd.set_option('display.max_rows', 350)"
   ]
  },
  {
   "cell_type": "code",
   "execution_count": null,
   "metadata": {},
   "outputs": [],
   "source": [
    "df = pd.read_csv('ISs_Strains_clean.csv')"
   ]
  },
  {
   "cell_type": "code",
   "execution_count": null,
   "metadata": {
    "scrolled": false
   },
   "outputs": [],
   "source": [
    "print(df.shape)\n",
    "df"
   ]
  },
  {
   "cell_type": "markdown",
   "metadata": {},
   "source": [
    "---\n",
    "## Contador de cepas\n",
    "Las lineas de codigo que estan a continuacion nos permiten contar cuantas cepas estamos analizando"
   ]
  },
  {
   "cell_type": "code",
   "execution_count": null,
   "metadata": {},
   "outputs": [],
   "source": [
    "numero_cepas = df['ID'].nunique()"
   ]
  },
  {
   "cell_type": "code",
   "execution_count": null,
   "metadata": {},
   "outputs": [],
   "source": [
    "print(f' Numero de cepas analizadas: >>>>> {numero_cepas}')"
   ]
  },
  {
   "cell_type": "markdown",
   "metadata": {},
   "source": [
    "---\n",
    "## Verify Manualy..... corregir desde aca\n",
    "En el bloque que sigue a continuacion seleccionamos solo los hits que arrojaron DLIS como resultados.\n",
    "Notar que hay otros hits que se sugiere revisar en forma manual que NO forman parte de este analisis"
   ]
  },
  {
   "cell_type": "code",
   "execution_count": null,
   "metadata": {},
   "outputs": [],
   "source": [
    "for i in df['Observations'].unique():\n",
    "    print(f'\\n{i}')"
   ]
  },
  {
   "cell_type": "code",
   "execution_count": null,
   "metadata": {},
   "outputs": [],
   "source": [
    "# Nos quedamos solo con las filas que tienen 'Observation == 1.DLIS'\n",
    "df = df[df['Observations']!='1. DLIS']"
   ]
  },
  {
   "cell_type": "code",
   "execution_count": null,
   "metadata": {
    "scrolled": true
   },
   "outputs": [],
   "source": [
    "print(df.shape)\n",
    "df"
   ]
  },
  {
   "cell_type": "code",
   "execution_count": null,
   "metadata": {},
   "outputs": [],
   "source": [
    "# Analizamos que tipo de datos estan aojados en cada columna\n",
    "df.dtypes "
   ]
  },
  {
   "cell_type": "code",
   "execution_count": null,
   "metadata": {},
   "outputs": [],
   "source": [
    "# Para poder trabajar con la funcion .groupby() necesitamos que la columna Year sea un object y no int64\n",
    "# Por lo tanto modificamos el formato de esa columna\n",
    "df['Year'] = df['Year'].astype(object)\n"
   ]
  },
  {
   "cell_type": "code",
   "execution_count": null,
   "metadata": {},
   "outputs": [],
   "source": [
    "# Confirmamos la modificacion del tipo de dato\n",
    "df.dtypes"
   ]
  },
  {
   "cell_type": "markdown",
   "metadata": {},
   "source": [
    "---\n",
    "## DLIS por cepa por year"
   ]
  },
  {
   "cell_type": "code",
   "execution_count": null,
   "metadata": {},
   "outputs": [],
   "source": [
    "# La tabla que se muestra a continuacion muestra el numero de DLIS encontradas por el IS-Compare para cada cepa, agrupadas\n",
    "# segun el anio en que fueron aisladas\n",
    "\n",
    "df1 = df.groupby(['Year','ID']).count()[['Observations']]"
   ]
  },
  {
   "cell_type": "code",
   "execution_count": null,
   "metadata": {
    "scrolled": true
   },
   "outputs": [],
   "source": [
    "df1"
   ]
  },
  {
   "cell_type": "code",
   "execution_count": null,
   "metadata": {},
   "outputs": [],
   "source": [
    "# Similar a la anterior, pero ahora tambien agrupamos segun sea que la IS solo esta en Tohama (ref Strain) o solo esta\n",
    "# en el aislamiento\n",
    "\n",
    "# IMPORTANTE\n",
    "# Lo interesante de esta observacion es que pareciera que hay 3 Is's que estaban en Tohama y \n",
    "# no estan en los aislamientos clinicos\n",
    "# utiizamos el SnapGene para confirmar si Tohama tiene una IS481 en esas posiciones\n",
    "df2 = df.groupby(['Year','ID','Description']).count()[['Observations']]"
   ]
  },
  {
   "cell_type": "code",
   "execution_count": null,
   "metadata": {
    "scrolled": true
   },
   "outputs": [],
   "source": [
    "df2"
   ]
  },
  {
   "cell_type": "markdown",
   "metadata": {},
   "source": [
    "---\n",
    "## IS's only present in Tohama.\n",
    "En este bloque analizamos aquellas IS's que estan en Tohama pero NO se encuentran en los aislamientos clinicos (post 2000)"
   ]
  },
  {
   "cell_type": "code",
   "execution_count": null,
   "metadata": {},
   "outputs": [],
   "source": [
    "# con este bloque de codigo generamos la df_ref que solo tiene las dlis que estan en Tohama y NO estan en los aislamientos\n",
    "df_ref = df[df['Description']=='IS only present in ref Strain.']"
   ]
  },
  {
   "cell_type": "code",
   "execution_count": null,
   "metadata": {},
   "outputs": [],
   "source": [
    "print(f'df_ref >>> {df_ref.shape}')\n",
    "df_ref"
   ]
  },
  {
   "cell_type": "code",
   "execution_count": null,
   "metadata": {},
   "outputs": [],
   "source": [
    "# Analizamos las posiciones en las que estan las ISs que ESTABAN en Tohama y ya NO ESTAN en los aislamientos\n",
    "df_ref01 = df_ref.groupby(['Insertion_site(REF)']).count()[['Observations']].sort_values('Observations', ascending = False)\n"
   ]
  },
  {
   "cell_type": "code",
   "execution_count": null,
   "metadata": {},
   "outputs": [],
   "source": [
    "print(f'df_ref >>> {df_ref01.shape}')\n",
    "df_ref01\n",
    "\n",
    "# hay un monton de hits que deberiamos verificar!!"
   ]
  },
  {
   "cell_type": "markdown",
   "metadata": {},
   "source": [
    "---\n",
    "## IS's only present in  query strains.\n",
    "En este bloque analizamos aquellas IS's que estan en los aislamientos (post 2000) pero NO se encuentran en Tohama "
   ]
  },
  {
   "cell_type": "code",
   "execution_count": null,
   "metadata": {},
   "outputs": [],
   "source": [
    "# con este bloque de codigo generamos la df_query que solo tiene las DLIS que estan en los aislamientos \n",
    "# y NO estan en Tohama\n",
    "df_query = df[df['Description']=='IS only present in query Strain.']"
   ]
  },
  {
   "cell_type": "code",
   "execution_count": null,
   "metadata": {
    "scrolled": true
   },
   "outputs": [],
   "source": [
    "print(f'df_query >>> {df_query.shape}')\n",
    "df_query"
   ]
  },
  {
   "cell_type": "code",
   "execution_count": null,
   "metadata": {},
   "outputs": [],
   "source": [
    "# Analizamos al lado de que genes estan las ISs que estan los aislamientos y NO estan en Tohama.\n",
    "df_query01 = df_query.groupby(['Insertion_site(REF)']).count()[['Observations']].sort_values('Observations', ascending = False)\n"
   ]
  },
  {
   "cell_type": "code",
   "execution_count": null,
   "metadata": {
    "scrolled": false
   },
   "outputs": [],
   "source": [
    "df_query01.head(50)\n",
    "# esta tabla tambien habria que tomarse el trabajo de revisar algunas cosas a mano"
   ]
  },
  {
   "cell_type": "markdown",
   "metadata": {},
   "source": [
    "## Genes INTERRUMPIDOS por IS's\n",
    "En este bloque buscamos IS's que cayeron en el medio de una secuencia codificante es decir que podrian haber interrumpido \n",
    "el gen y evitar su transcripcion. Simil a lo que sucede con algunas cepas prn menos.\n",
    "\n",
    "nota: este analisis es muy preliminar, hay que pulir esta seleccion"
   ]
  },
  {
   "cell_type": "code",
   "execution_count": null,
   "metadata": {},
   "outputs": [],
   "source": [
    "df_query03 = df_query[df_query['REF_Flank1.locus_tag']==df_query['REF_Flank2.locus_tag']]"
   ]
  },
  {
   "cell_type": "code",
   "execution_count": null,
   "metadata": {},
   "outputs": [],
   "source": [
    "print(df_query03.shape)\n",
    "df_query03"
   ]
  },
  {
   "cell_type": "code",
   "execution_count": null,
   "metadata": {},
   "outputs": [],
   "source": [
    "df_query04 = df_query03.groupby(['REF_Flank1.locus_tag']).count()[['Observations']].sort_values('Observations', ascending = False)"
   ]
  },
  {
   "cell_type": "code",
   "execution_count": null,
   "metadata": {
    "scrolled": true
   },
   "outputs": [],
   "source": [
    "df_query04\n",
    "\n",
    "# recordar que 1054 es la pertactina\n",
    "# El gen Bp 2611 esta interrumpido en casi todos (143/153!!) los aislamientos clinicos post 2000 (en USA)\n",
    "#que es la Bp2611? Podria ser un regulador transcripcional!!\n",
    "\n",
    "# hay 8 cepas en las que BP2611 no esta interrumpida...cuales son? De cuando son?"
   ]
  },
  {
   "cell_type": "markdown",
   "metadata": {},
   "source": [
    "### Hasta aca llegamos... como seguimos..."
   ]
  },
  {
   "cell_type": "markdown",
   "metadata": {},
   "source": []
  }
 ],
 "metadata": {
  "kernelspec": {
   "display_name": "Python 3",
   "language": "python",
   "name": "python3"
  },
  "language_info": {
   "codemirror_mode": {
    "name": "ipython",
    "version": 3
   },
   "file_extension": ".py",
   "mimetype": "text/x-python",
   "name": "python",
   "nbconvert_exporter": "python",
   "pygments_lexer": "ipython3",
   "version": "3.8.6"
  }
 },
 "nbformat": 4,
 "nbformat_minor": 4
}
