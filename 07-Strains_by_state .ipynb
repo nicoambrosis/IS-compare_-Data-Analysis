{
 "cells": [
  {
   "cell_type": "markdown",
   "metadata": {},
   "source": [
    "El objetivo de este grupo de bloques de código es analizar de qué estados fueron aisladas las cepas que de USA que estamos analizando."
   ]
  },
  {
   "cell_type": "code",
   "execution_count": null,
   "metadata": {},
   "outputs": [],
   "source": [
    "import pandas as pd"
   ]
  },
  {
   "cell_type": "code",
   "execution_count": null,
   "metadata": {},
   "outputs": [],
   "source": [
    "file_name = 'Genomic_Survey_of_Bordetella_pertussis.xlsx' # el archivo tiene que estar en la misma carpeta en que se corre \n",
    "                                                          # el programa\n",
    "df = pd.read_excel(file_name)\n",
    "df"
   ]
  },
  {
   "cell_type": "code",
   "execution_count": null,
   "metadata": {},
   "outputs": [],
   "source": [
    "us_state_abbrev = {\n",
    "    'Alabama': 'AL',\n",
    "    'Alaska': 'AK',\n",
    "    'American Samoa': 'AS',\n",
    "    'Arizona': 'AZ',\n",
    "    'Arkansas': 'AR',\n",
    "    'California': 'CA',\n",
    "    'Colorado': 'CO',\n",
    "    'Connecticut': 'CT',\n",
    "    'Delaware': 'DE',\n",
    "    'District of Columbia': 'DC',\n",
    "    'Florida': 'FL',\n",
    "    'Georgia': 'GA',\n",
    "    'Guam': 'GU',\n",
    "    'Hawaii': 'HI',\n",
    "    'Idaho': 'ID',\n",
    "    'Illinois': 'IL',\n",
    "    'Indiana': 'IN',\n",
    "    'Iowa': 'IA',\n",
    "    'Kansas': 'KS',\n",
    "    'Kentucky': 'KY',\n",
    "    'Louisiana': 'LA',\n",
    "    'Maine': 'ME',\n",
    "    'Maryland': 'MD',\n",
    "    'Massachusetts': 'MA',\n",
    "    'Michigan': 'MI',\n",
    "    'Minnesota': 'MN',\n",
    "    'Mississippi': 'MS',\n",
    "    'Missouri': 'MO',\n",
    "    'Montana': 'MT',\n",
    "    'Nebraska': 'NE',\n",
    "    'Nevada': 'NV',\n",
    "    'New Hampshire': 'NH',\n",
    "    'New Jersey': 'NJ',\n",
    "    'New Mexico': 'NM',\n",
    "    'New York': 'NY',\n",
    "    'North Carolina': 'NC',\n",
    "    'North Dakota': 'ND',\n",
    "    'Northern Mariana Islands':'MP',\n",
    "    'Ohio': 'OH',\n",
    "    'Oklahoma': 'OK',\n",
    "    'Oregon': 'OR',\n",
    "    'Pennsylvania': 'PA',\n",
    "    'Puerto Rico': 'PR',\n",
    "    'Rhode Island': 'RI',\n",
    "    'South Carolina': 'SC',\n",
    "    'South Dakota': 'SD',\n",
    "    'Tennessee': 'TN',\n",
    "    'Texas': 'TX',\n",
    "    'Utah': 'UT',\n",
    "    'Vermont': 'VT',\n",
    "    'Virgin Islands': 'VI',\n",
    "    'Virginia': 'VA',\n",
    "    'Washington': 'WA',\n",
    "    'West Virginia': 'WV',\n",
    "    'Wisconsin': 'WI',\n",
    "    'Wyoming': 'WY'\n",
    "}\n",
    "# este diccionario esta sacado de:https://gist.github.com/rogerallen/1583593"
   ]
  },
  {
   "cell_type": "code",
   "execution_count": null,
   "metadata": {},
   "outputs": [],
   "source": [
    "# este bloque nos permite invertir el orden de las key y values del diccionario us_state_abbrev y volver a guardar el nuevo\n",
    "# diccionario en la misma variable llamada us_state_abbrev\n",
    "print(f'ANTES >>>\\n {us_state_abbrev}')\n",
    "us_state_abbrev = {v: k for k, v in us_state_abbrev.items()}\n",
    "print(f'\\nAHORA >>>\\n {us_state_abbrev}')\n"
   ]
  },
  {
   "cell_type": "code",
   "execution_count": null,
   "metadata": {},
   "outputs": [],
   "source": [
    "# este bloque nos permite cambiar las abreviaturas de la columna States por los nombres completos de los estados\n",
    "df[\"State\"] = df[\"State\"].map(us_state_abbrev)\n",
    "df"
   ]
  },
  {
   "cell_type": "code",
   "execution_count": null,
   "metadata": {},
   "outputs": [],
   "source": [
    "# obtenemos el primer Heat map con el numero de aislamientos por estado y por anio\n",
    "states_heatmap = (df\n",
    "                  .groupby('State')\n",
    "                  .Year\n",
    "                  .value_counts()\n",
    "                  .unstack()\n",
    "                  .fillna(0)\n",
    ")\n",
    "\n",
    "\n",
    "display(states_heatmap)\n",
    "# este heat map no esta normalizado segun el numero de aislamientos de ese anio. Para ver el analisis normalizado \n",
    "# ir hacia el siguiente Heatmap que ademas esta graficado. "
   ]
  },
  {
   "cell_type": "markdown",
   "metadata": {},
   "source": [
    "## Heat map"
   ]
  },
  {
   "cell_type": "code",
   "execution_count": null,
   "metadata": {},
   "outputs": [],
   "source": [
    "import seaborn as sns\n",
    "import matplotlib.pyplot as plt\n",
    "\n",
    "#Create the Figure\n",
    "fig1, ax1 = plt.subplots(figsize=(15,20))\n",
    "\n",
    "\n",
    "# Define Data and set parameters\n",
    "sns.heatmap(states_heatmap,\n",
    "           annot=True,\n",
    "           linewidths=0.5,\n",
    "           linecolor='black',\n",
    "           cbar=True,\n",
    "           square=False,\n",
    "           cmap='BuPu',\n",
    "            )\n",
    "\n",
    "\n",
    "# Setting title and labels\n",
    "plt.title('Number of Isolates by Year\\n', fontsize=25)\n",
    "plt.xlabel('Years', fontsize=18)\n",
    "plt.ylabel('State', fontsize=18)\n",
    "plt.yticks(rotation = 0, fontsize=12, fontweight='bold')\n",
    "\n",
    "\n",
    "\n",
    "\n",
    "# save figure\n",
    "plt.savefig('Isolates by year-numbers-.png', dpi=300, format='png', bbox_inches='tight')\n",
    "print('Figure has been saved!!')"
   ]
  },
  {
   "cell_type": "code",
   "execution_count": null,
   "metadata": {},
   "outputs": [],
   "source": [
    "# Ahora vamos a normalizar el numero de aislamiento en funcion del numero total de aislamientos obtenidos ese mismo anio."
   ]
  },
  {
   "cell_type": "code",
   "execution_count": null,
   "metadata": {},
   "outputs": [],
   "source": [
    "import pickle\n",
    "with open('str_by_year.pickle', 'rb') as handle:\n",
    "    str_by_year = pickle.load(handle)\n",
    "    \n",
    "str_by_year"
   ]
  },
  {
   "cell_type": "code",
   "execution_count": null,
   "metadata": {},
   "outputs": [],
   "source": [
    "years = list(range(2000,2013+1)) #recordar que la funcion range no incluye al ultimo valor del par\n",
    "\n",
    "for year in years:\n",
    "    states_heatmap[year] = states_heatmap[year]/str_by_year[year] \n",
    "    \n",
    "states_heatmap"
   ]
  },
  {
   "cell_type": "code",
   "execution_count": null,
   "metadata": {},
   "outputs": [],
   "source": [
    "#con este boque confirmamos que la suma de las fracciones de cada estado da 1. Si no da uno entonces hay un error.\n",
    "states_heatmap.sum()"
   ]
  },
  {
   "cell_type": "markdown",
   "metadata": {},
   "source": [
    "## Graficamos el Heat map"
   ]
  },
  {
   "cell_type": "code",
   "execution_count": null,
   "metadata": {},
   "outputs": [],
   "source": [
    "import seaborn as sns\n",
    "import matplotlib.pyplot as plt\n",
    "\n",
    "#Create the Figure\n",
    "fig2, ax2 = plt.subplots(figsize=(15,20))\n",
    "\n",
    "\n",
    "# Define Data and set parameters\n",
    "sns.heatmap(states_heatmap,\n",
    "           annot=True,\n",
    "           linewidths=0.5,\n",
    "           linecolor='black',\n",
    "           cbar=True,\n",
    "           square=False,\n",
    "           cmap='BuPu',\n",
    "            )\n",
    "\n",
    "\n",
    "# Setting title and labels\n",
    "plt.title('Proportion of Isolates by Year\\n', fontsize=25)\n",
    "plt.xlabel('Years', fontsize=18)\n",
    "plt.ylabel('State', fontsize=18)\n",
    "plt.yticks(rotation = 0, fontsize=12, fontweight='bold')\n",
    "\n",
    "\n",
    "\n",
    "\n",
    "# save figure\n",
    "plt.savefig('Isolates by year-proportion-.png', dpi=300, format='png', bbox_inches='tight')\n",
    "print('Figure has been saved!!')\n",
    "\n",
    "\n",
    "\n",
    "\n",
    "\n",
    "\n"
   ]
  },
  {
   "cell_type": "code",
   "execution_count": null,
   "metadata": {},
   "outputs": [],
   "source": []
  }
 ],
 "metadata": {
  "kernelspec": {
   "display_name": "Python 3",
   "language": "python",
   "name": "python3"
  },
  "language_info": {
   "codemirror_mode": {
    "name": "ipython",
    "version": 3
   },
   "file_extension": ".py",
   "mimetype": "text/x-python",
   "name": "python",
   "nbconvert_exporter": "python",
   "pygments_lexer": "ipython3",
   "version": "3.8.6"
  }
 },
 "nbformat": 4,
 "nbformat_minor": 4
}
