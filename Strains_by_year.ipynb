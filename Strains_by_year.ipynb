{
 "cells": [
  {
   "cell_type": "code",
   "execution_count": null,
   "metadata": {},
   "outputs": [],
   "source": [
    "import pandas as pd\n",
    "pd.set_option('display.max_columns', 20)"
   ]
  },
  {
   "cell_type": "code",
   "execution_count": null,
   "metadata": {},
   "outputs": [],
   "source": [
    "file_name\n",
    "df = pd.read_excel(file_name)"
   ]
  },
  {
   "cell_type": "code",
   "execution_count": null,
   "metadata": {},
   "outputs": [],
   "source": [
    "df"
   ]
  },
  {
   "cell_type": "code",
   "execution_count": null,
   "metadata": {},
   "outputs": [],
   "source": [
    "df_1 = df.groupby(['Year']).count()[['ID']]\n",
    "# este es el numero de cepas reportadas por cada anio\n",
    "# recordar que en 2003-2004 se produjo un primer pico con 25.000 casos al anio\n",
    "# 2010>>>> 27.000\n",
    "# 2012>>> 48.000 (este anio es clave para anlizar y ademas es uno de los anio de los que tenemos mas cepas)\n",
    "df_1"
   ]
  },
  {
   "cell_type": "code",
   "execution_count": null,
   "metadata": {},
   "outputs": [],
   "source": [
    "# con estos datos tengo que armar un diccionario que podria necesitar despues\n",
    "print(type(df.groupby(['Year']).count()[['ID']]))\n",
    "# notar que al utilizar el dobble corchete el resultado de la linea de arriba es una dataframe por lo tanto"
   ]
  },
  {
   "cell_type": "code",
   "execution_count": null,
   "metadata": {},
   "outputs": [],
   "source": [
    "str_by_year = df_1.to_dict()['ID']\n",
    "print(str_by_year)\n",
    "\n",
    "# aca tenemos un diccionario que tiene almacenada en la key el anio y en el value el numero de cepas analizadas ese anio\n",
    "# una cosa similar voy a tener que hacer para el recuento de veces que una IS cayo al lado de un gen\n"
   ]
  },
  {
   "cell_type": "code",
   "execution_count": null,
   "metadata": {},
   "outputs": [],
   "source": [
    "# nota!!! tengo que buscar una manera de guardar este diccionario para poder usarlo en otro programa\n",
    "# podria ser usando JSON o Pickle( esta biblioteca es de python)"
   ]
  },
  {
   "cell_type": "markdown",
   "metadata": {},
   "source": [
    "---\n",
    "---\n",
    "## Save dictionary to file using pickle"
   ]
  },
  {
   "cell_type": "code",
   "execution_count": null,
   "metadata": {},
   "outputs": [],
   "source": [
    "import pickle\n",
    "\n",
    "\n",
    "\n",
    "with open('str_by_year.pickle', 'wb') as handle:\n",
    "    pickle.dump(str_by_year, handle, protocol=pickle.HIGHEST_PROTOCOL)\n",
    "\n",
    "\n",
    "print (f'File \"str_by_year.pickle\" has been saved!!!')"
   ]
  },
  {
   "cell_type": "code",
   "execution_count": null,
   "metadata": {},
   "outputs": [],
   "source": [
    "with open('str_by_year.pickle', 'rb') as handle:\n",
    "    b = pickle.load(handle)\n",
    "    \n",
    "b    \n"
   ]
  },
  {
   "cell_type": "code",
   "execution_count": null,
   "metadata": {},
   "outputs": [],
   "source": [
    "print(str_by_year == b)\n",
    "# con esta linea confirmamos que el dictionario fue guardado como un archivo .pickle y es posible abrirlo."
   ]
  },
  {
   "cell_type": "code",
   "execution_count": null,
   "metadata": {},
   "outputs": [],
   "source": [
    "len('MAKLTAKAASVPANGAPAAAVDWRSLLEFHSWRCPGRAVLNMQTDVNINSLAALGLMEEIFANYHAYRVAKQAGDTGEMALRRAKIETLAAEQRRVIAAVCRDTGAQ')"
   ]
  },
  {
   "cell_type": "code",
   "execution_count": null,
   "metadata": {},
   "outputs": [],
   "source": [
    "c"
   ]
  }
 ],
 "metadata": {
  "kernelspec": {
   "display_name": "Python 3",
   "language": "python",
   "name": "python3"
  },
  "language_info": {
   "codemirror_mode": {
    "name": "ipython",
    "version": 3
   },
   "file_extension": ".py",
   "mimetype": "text/x-python",
   "name": "python",
   "nbconvert_exporter": "python",
   "pygments_lexer": "ipython3",
   "version": "3.8.6"
  }
 },
 "nbformat": 4,
 "nbformat_minor": 4
}
